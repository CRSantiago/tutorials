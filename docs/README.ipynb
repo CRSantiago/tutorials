{
 "cells": [
  {
   "cell_type": "markdown",
   "metadata": {},
   "source": [
    "# Welcome To Fugue Tutorials\n",
    "\n",
    "This environment has everything setup for you, you can run Fugue on native python, Spark and Dask, with `Fugue-sql` support. In order to setup your own environment, you can pip install the package:\n",
    "\n",
    "```bash\n",
    "pip install fugue[all]\n",
    "```\n",
    "\n",
    "The simplest way to run the tutorial is to use [mybinder](https://mybinder.org/v2/gh/fugue-project/tutorials/master)\n",
    "\n",
    "[![Binder](https://mybinder.org/badge_logo.svg)](https://mybinder.org/v2/gh/fugue-project/tutorials/master)\n",
    "\n",
    "**BUT please notice that, it runs slow on binder, the spark initialization can take a long time.**\n",
    "\n",
    "To run the tutorials environment on your own machine, the simplest way is, if you have docker installed:\n",
    "\n",
    "```\n",
    "docker run -p 8888:8888 fugueproject/tutorials:latest\n",
    "```\n",
    "\n",
    "To run docker on your own machine, the speed should be a lot better."
   ]
  },
  {
   "cell_type": "markdown",
   "metadata": {
    "nbsphinx-toctree": {
     "maxdepth": 5
    }
   },
   "source": [
    "## [For Beginners](tutorials/beginner/index.ipynb)"
   ]
  },
  {
   "cell_type": "markdown",
   "metadata": {
    "nbsphinx-toctree": {
     "maxdepth": 5
    }
   },
   "source": [
    "## [For Advanced Users](tutorials/advanced.ipynb)"
   ]
  },
  {
   "cell_type": "markdown",
   "metadata": {},
   "source": [
    "## [Fugue-Sql](tutorials/fugue_sql/index.ipynb)"
   ]
  }
 ],
 "metadata": {
  "celltoolbar": "Edit Metadata",
  "kernelspec": {
   "display_name": "Python 3.7.9 64-bit",
   "name": "python379jvsc74a57bd04cd7ab41f5fca4b9b44701077e38c5ffd31fe66a6cab21e0214b68d958d0e462"
  },
  "language_info": {
   "name": "python",
   "version": ""
  }
 },
 "nbformat": 4,
 "nbformat_minor": 4
}