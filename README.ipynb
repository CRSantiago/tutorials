{
 "cells": [
  {
   "cell_type": "markdown",
   "metadata": {},
   "source": [
    "# Welcome To Fugue Tutorials\n",
    "\n",
    "[Join Fugue-Project on Slack](https://join.slack.com/t/fugue-project/shared_invite/zt-ffo2ik1d-maSsCykv_p7kXpnmIjKAug)\n",
    "\n",
    "This environment has everything setup for you, you can run Fugue on native python, Spark and Dask, with Fugue SQL support. In order to setup your own environment, you can pip install the package:\n",
    "\n",
    "```bash\n",
    "pip install fugue[all]\n",
    "```\n",
    "\n",
    "The simplest way to run the tutorial is to use [mybinder](https://mybinder.org/v2/gh/fugue-project/tutorials/master)\n",
    "\n",
    "[![Binder](https://mybinder.org/badge_logo.svg)](https://mybinder.org/v2/gh/fugue-project/tutorials/master)\n",
    "\n",
    "**But it runs slow on binder**, the machine on binder isn't powerful enough for\n",
    "a distributed framework such as Spark. Parallel executions can become sequential, so some of the\n",
    "performance comparison examples will not give you the correct numbers.\n",
    "\n",
    "Alternatively, you should get decent performance if running its docker image on your own machine:\n",
    "\n",
    "```\n",
    "docker run -p 8888:8888 fugueproject/tutorials:latest\n",
    "```\n"
   ]
  },
  {
   "cell_type": "markdown",
   "metadata": {
    "nbsphinx-toctree": {
     "hidden": true
    }
   },
   "source": [
    "# Tutorials\n",
    "\n",
    "## [For Beginners](tutorials/beginner/index.ipynb)\n",
    "\n",
    "## [For Advanced Users](tutorials/advanced.ipynb)\n",
    "\n",
    "## [Fugue-Sql](tutorials/fugue_sql/index.ipynb)"
   ]
  }
 ],
 "metadata": {
  "kernelspec": {
   "display_name": "Python 3.7.9 64-bit",
   "name": "python379jvsc74a57bd04cd7ab41f5fca4b9b44701077e38c5ffd31fe66a6cab21e0214b68d958d0e462"
  },
  "language_info": {
   "name": "python",
   "version": ""
  }
 },
 "nbformat": 4,
 "nbformat_minor": 4
}