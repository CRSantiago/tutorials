{
 "cells": [
  {
   "cell_type": "markdown",
   "metadata": {},
   "source": [
    "# Welcome To Fugue Tutorials\n",
    "\n",
    "[Join Fugue-Project on Slack](https://join.slack.com/t/fugue-project/shared_invite/zt-ffo2ik1d-maSsCykv_p7kXpnmIjKAug)\n",
    "\n",
    "This environment has everything setup for you, you can run Fugue on native python, Spark and Dask, with Fugue SQL support. In order to setup your own environment, you can pip install the package:\n",
    "\n",
    "```bash\n",
    "pip install fugue[all]\n",
    "```\n",
    "\n",
    "The simplest way to run the tutorial is to use [mybinder](https://mybinder.org/v2/gh/fugue-project/tutorials/master)\n",
    "\n",
    "[![Binder](https://mybinder.org/badge_logo.svg)](https://mybinder.org/v2/gh/fugue-project/tutorials/master)\n",
    "\n",
    "**But it runs slow on binder**, the machine on binder isn't powerful enough for\n",
    "a distributed framework such as Spark. Parallel executions can become sequential, so some of the\n",
    "performance comparison examples will not give you the correct numbers.\n",
    "\n",
    "Alternatively, you should get decent performance if running its docker image on your own machine:\n",
    "\n",
    "```\n",
    "docker run -p 8888:8888 fugueproject/tutorials:latest\n",
    "```\n"
   ]
  },
  {
   "cell_type": "markdown",
   "metadata": {
    "nbsphinx-toctree": {
     "hidden": true
    }
   },
   "source": [
    "# Tutorials\n",
    "\n",
    "## [For Beginners](tutorials/beginner.ipynb)\n",
    "\n",
    "## [For Advanced Users](tutorials/advanced.ipynb)"
   ]
  }
 ],
 "metadata": {
  "kernelspec": {
   "display_name": "Python 3",
   "language": "python",
   "name": "python3"
  },
  "language_info": {
   "codemirror_mode": {
    "name": "ipython",
    "version": 3
   },
   "file_extension": ".py",
   "mimetype": "text/x-python",
   "name": "python",
   "nbconvert_exporter": "python",
   "pygments_lexer": "ipython3",
   "version": "3.7.6"
  }
 },
 "nbformat": 4,
 "nbformat_minor": 4
}
