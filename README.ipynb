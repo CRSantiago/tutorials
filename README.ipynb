{
 "cells": [
  {
   "cell_type": "markdown",
   "metadata": {},
   "source": [
    "# Welcome To Fugue Tutorials\n",
    "\n",
    "This environment has everything setup for you, you can run Fugue on native python, Spark and Dask, with Fugue SQL support. In order to setup your own environment, you can pip install the package:\n",
    "\n",
    "```bash\n",
    "pip install fugue[all]\n",
    "```\n",
    "\n",
    "The simplest way to run the tutorial is to use [mybinder](https://mybinder.org/v2/gh/fugue-project/tutorials/master)\n",
    "\n",
    "[![Binder](https://mybinder.org/badge_logo.svg)](https://mybinder.org/v2/gh/fugue-project/tutorials/master)\n",
    "\n",
    "**BUT please notice that, it runs slow on binder, the spark initialization can take a long time.**\n",
    "\n",
    "To run the tutorials environment on your own machine, the simplest way is, if you have docker installed:\n",
    "\n",
    "```\n",
    "docker run -p 8888:8888 fugueproject/tutorials:latest\n",
    "```\n",
    "\n",
    "To run docker on your own machine, the speed should be a lot better."
   ]
  },
  {
   "cell_type": "markdown",
   "metadata": {
    "nbsphinx-toctree": {
     "hidden": true
    }
   },
   "source": [
    "# Tutorials\n",
    "\n",
    "## [For Beginners](tutorials/beginner.ipynb)\n",
    "\n",
    "## [For Advanced Users](tutorials/advanced.ipynb)"
   ]
  }
 ],
 "metadata": {
  "celltoolbar": "Edit Metadata",
  "kernelspec": {
   "display_name": "Python 3",
   "language": "python",
   "name": "python3"
  },
  "language_info": {
   "codemirror_mode": {
    "name": "ipython",
    "version": 3
   },
   "file_extension": ".py",
   "mimetype": "text/x-python",
   "name": "python",
   "nbconvert_exporter": "python",
   "pygments_lexer": "ipython3",
   "version": "3.7.6"
  }
 },
 "nbformat": 4,
 "nbformat_minor": 4
}
