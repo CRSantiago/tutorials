{
 "cells": [
  {
   "cell_type": "markdown",
   "metadata": {},
   "source": [
    "# Fugue Interface\n",
    "\n",
    "In the previous section, we talked about the motivation of Fugue and showed a simple example of Fugue code. Here we provide more details around the Fugue syntax that will be needed in actual applications. We will also talk about some of the underlying concepts that were shown in the previous section.\n",
    "\n",
    "## The Directed Acyclic Graph (DAG)\n",
    "\n",
    "In the last section, we had a code block that used `with FugueWorkflow`. \n"
   ]
  },
  {
   "cell_type": "raw",
   "metadata": {},
   "source": []
  },
  {
   "cell_type": "markdown",
   "metadata": {},
   "source": [
    "\n",
    "## Schema\n",
    "\n",
    "## Passing Parameters\n",
    "\n",
    "## Decoupling Logic and Execution\n",
    "\n",
    "To illustrate the first two painpoints above, we'll use a simple code example on a DataFrame with 2 string columns (*col1* and *col2*). This following operation will not make sense, but will show how Pandas and Spark syntactically differ.  We're will create a new column (*col3*). This third column with be a concatenation of the first column with the first 3 letters second column. This whole value will then be reversed. We will execute this logic on Pandas and Spark."
   ]
  }
 ],
 "metadata": {
  "kernelspec": {
   "display_name": "Python 3.7.9 64-bit",
   "name": "python379jvsc74a57bd04cd7ab41f5fca4b9b44701077e38c5ffd31fe66a6cab21e0214b68d958d0e462"
  },
  "language_info": {
   "name": "python",
   "version": ""
  },
  "orig_nbformat": 2
 },
 "nbformat": 4,
 "nbformat_minor": 2
}