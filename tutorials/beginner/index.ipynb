{
 "cells": [
  {
   "cell_type": "markdown",
   "metadata": {},
   "source": [
    "# Tutorial for Beginners\n",
    "\n",
    "Welcome to the Fugue tutorials. All questions are welcome in the Slack channel.\n",
    "\n",
    "[![Slack Status](https://img.shields.io/badge/slack-join_chat-white.svg?logo=slack&style=social)](https://join.slack.com/t/fugue-project/shared_invite/zt-jl0pcahu-KdlSOgi~fP50TZWmNxdWYQ)\n",
    "\n",
    "Fugue is an abstraction framework that lets users write code in native Python or Pandas, and then port it over to Spark and Dask. The beginner tutorial will cover the motivation of Fugue, the benefits of using an abstraction layer, and how to get started. The beginner section is not a complete reference, but sufficient enough to get started with writing full workflows in Fugue.\n",
    "\n",
    "\n",
    "## [1. Introduction](introduction.ipynb)\n",
    "We'll start by going over the motivation for Fugue and the problems it solves. We'll show some basic Fugue code, and how to execute code on different ExecutionEngines (Spark or Dask). Fugue is more than a framework. It is a mindset for working on data problems, especially ones involving distributed compute. In this section we'll cover some of the beliefs of Fugue.\n",
    "\n",
    "\n",
    "## [2. Fugue Interface](interface.ipynb)\n",
    "In this section we'll start covering some concepts like the Directed Acyclic Graph (DAG) and the need for explicit schema in a distributed compute environment. We'll show how to pass parameters to `transformers`, as well as load and save data. With these, users will be able to start some basic work on data through Fugue.\n",
    "\n",
    "\n",
    "## [3. Joining Data](joins.ipynb)\n",
    "Here we'll show the different ways to join DataFrames in Fugue along with union, intersect, and except. SQL and Pandas also have some inconsistencies users have to be aware of when joining. Fugue maintains consistency with SQL (and Spark).\n",
    "\n",
    "\n",
    "## [4. Extensions](beginner_extension.ipynb)\n",
    "We already covered the `transformer`, the most commonly used Fugue extension. Extensions are Fugue operations on DataFrames that are used inside the DAG. Here we will cover the `creator`, `processor`, `cotransformer` and `outputter`.\n",
    "\n",
    "\n",
    "## [5. Distributed Compute](distributed_compute.ipynb)\n",
    "The heart of Fugue is distributed compute. In this section we'll show the keywords and concepts that allow Fugue to fully utilize the power of distributed compute. This includes `partitions`, `persisting`, and `broadcasting`.\n",
    "\n",
    "\n",
    "## [6. Fugue-SQL](beginner_sql.ipynb)\n",
    "As a last note, we'll show a bit on Fugue-Sql, the SQL interface for using Fugue. This is targeted for heavy SQL users and SQL-lovers who want to use SQL on top of Spark and Dask, or even Pandas. This is SQL that is used on DataFrames in memory as opposed to data in databases.\n",
    "\n",
    "With that, you should be ready to implement data workflows using Fugue. For full end-to-end examples, check out the [Stock Sentiment](../stock_sentiment.ipynb) and [COVID-19](../example_covid19.ipynb) examples. For any questions, feel free to join the [Slack channel](https://img.shields.io/badge/slack-join_chat-white.svg?logo=slack&style=social)](https://join.slack.com/t/fugue-project/shared_invite/zt-jl0pcahu-KdlSOgi~fP50TZWmNxdWYQ)."
   ]
  }
 ],
 "metadata": {
  "kernelspec": {
   "display_name": "Python 3.7.9 64-bit",
   "name": "python379jvsc74a57bd04cd7ab41f5fca4b9b44701077e38c5ffd31fe66a6cab21e0214b68d958d0e462"
  },
  "language_info": {
   "name": "python",
   "version": ""
  },
  "orig_nbformat": 2
 },
 "nbformat": 4,
 "nbformat_minor": 2
}