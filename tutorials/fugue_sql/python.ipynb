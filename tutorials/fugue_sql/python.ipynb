{
 "metadata": {
  "language_info": {
   "codemirror_mode": {
    "name": "ipython",
    "version": 3
   },
   "file_extension": ".py",
   "mimetype": "text/x-python",
   "name": "python",
   "nbconvert_exporter": "python",
   "pygments_lexer": "ipython3",
   "version": 3
  },
  "orig_nbformat": 2
 },
 "nbformat": 4,
 "nbformat_minor": 2,
 "cells": [
  {
   "source": [
    "# FugueSQL and Python\n",
    "\n",
    "`FugueSQL` is extensible by creating Python extensions and applying them in the `FugueSQLWorkflow`. This tutorial will show an example of applying a [Fugue Transformer](../transformer.ipynb). Additionally, we'll see the simpler ways that the Python interface and `FugueSQL` interact with each other."
   ],
   "cell_type": "markdown",
   "metadata": {}
  },
  {
   "cell_type": "code",
   "execution_count": null,
   "metadata": {},
   "outputs": [],
   "source": [
    "from fugue_sql import FugueSQLWorkflow"
   ]
  },
  {
   "source": [
    "## [Jinja](https://jinja.palletsprojects.com/) Templating to Insert Variables\n",
    "\n",
    "Before going to functions, the simplest way `FugueSQL` integrates with Python is through [Jinja](https://jinja.palletsprojects.com/) templating. `DataFrames` defined previously are automatically accessible by the `DAG`. Variables on the other hand, need to be passed with [Jinja](https://jinja.palletsprojects.com/) templating."
   ],
   "cell_type": "markdown",
   "metadata": {}
  },
  {
   "cell_type": "code",
   "execution_count": null,
   "metadata": {},
   "outputs": [],
   "source": [
    "with FugueSQLWorkflow() as dag:\n",
    "    df = dag.df([[0,\"hello\"],[1,\"world\"]],\"a:int,b:str\")\n",
    "    x=0\n",
    "    dag(\"\"\"\n",
    "    SELECT * FROM df WHERE a={{x}}  # see we can use variable x directly\n",
    "    PRINT\n",
    "    \"\"\")\n",
    "    dag(\"\"\"\n",
    "    SELECT * FROM df WHERE a={{y}}  # or in this way\n",
    "    PRINT\n",
    "    \"\"\", y=1)"
   ]
  },
  {
   "source": [
    "## Getting a DataFrame from the DAG\n",
    "\n",
    "All `DataFrames` defined in SQL blocks can be accessed by `dag[\"key\"]`"
   ],
   "cell_type": "markdown",
   "metadata": {}
  },
  {
   "cell_type": "code",
   "execution_count": null,
   "metadata": {},
   "outputs": [],
   "source": [
    "with FugueSQLWorkflow() as dag:\n",
    "    df = dag.df([[0,\"hello\"],[1,\"world\"]],\"a:int,b:str\")\n",
    "    dag(\"\"\"\n",
    "    temp = SELECT * FROM df WHERE a=1\n",
    "    \"\"\")\n",
    "    df2 = dag['temp']\n",
    "    df2.show()"
   ]
  },
  {
   "source": [
    "## Using [Transformers](../transformer.ipynb)\n",
    "\n",
    "`Fugue` has different [extensions](extensions.ipynb) that allow Python to interact with SQL. `Transformer` is most commonly used because it modifies that data in a dataframe. Below we create a `Transformer` in Python and apply it in the `FugueSQLWorkflow`. More on `Transformer` syntax can be found here."
   ],
   "cell_type": "markdown",
   "metadata": {}
  },
  {
   "cell_type": "code",
   "execution_count": null,
   "metadata": {},
   "outputs": [],
   "source": [
    "import re\n",
    "from typing import Iterable, Dict, Any\n",
    "\n",
    "# schema: *, vowel_count:int, consonant_count:int\n",
    "def letter_count(df:Iterable[Dict[str,Any]]) -> Iterable[Dict[str,Any]]:\n",
    "    for row in df:\n",
    "        row['vowel_count'] = len(re.findall(r'[aeiou]', row['word'], flags=re.IGNORECASE))\n",
    "        space_count = len(re.findall(r'[ -]', row['word'], flags=re.IGNORECASE))\n",
    "        row['consonant_count'] = len(row['word']) - row['vowel_count'] - space_count\n",
    "        yield row\n",
    "\n",
    "with FugueSQLWorkflow() as dag:\n",
    "    df = dag.df([[0,\"hello\"],[1,\"world\"]],\"number:int,word:str\")\n",
    "    dag(\"\"\"\n",
    "    SELECT * \n",
    "    FROM df \n",
    "    WHERE number=1\n",
    "    TRANSFORM USING letter_count\n",
    "    PRINT\n",
    "    \"\"\")"
   ]
  }
 ]
}