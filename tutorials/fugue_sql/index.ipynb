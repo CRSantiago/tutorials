{
 "metadata": {
  "language_info": {
   "codemirror_mode": {
    "name": "ipython",
    "version": 3
   },
   "file_extension": ".py",
   "mimetype": "text/x-python",
   "name": "python",
   "nbconvert_exporter": "python",
   "pygments_lexer": "ipython3",
   "version": 3
  },
  "orig_nbformat": 2
 },
 "nbformat": 4,
 "nbformat_minor": 2,
 "cells": [
  {
   "source": [
    "# Fugue SQL\n",
    "\n",
    "`FugueSQL` is designed for heavy SQL users to extend the boundaries of traditional SQL workflows. `FugueSQL` allows the expression of logic for end-to-end  distributed computing workflows. It can also be combined with Python code to use custom functions inside the SQL commands.\n",
    "\n",
    "The SQL query is parsed with **ANTLR** and mapped to the equivalent functions in the `Fugue` programming interface. Similar to the `Fugue` programming interface, users can run their queries on **Spark**, **Dask**, and **Pandas** execution engines without having to modify the query. \n",
    "\n",
    "## 1. Installation\n",
    "\n",
    "In order to use `FugueSQL`, you first need to make sure you have installed the sql extra\n",
    "```\n",
    "pip install fugue[sql]\n",
    "```\n",
    "To run on Spark or Dask execution engines, install the appropriate extras. Alternatively, `all` can be used as an extra.\n",
    "```\n",
    "pip install fugue[sql, spark] \n",
    "pip install fugue[sql, dask]\n",
    "pip install fugue[all]\n",
    "```\n",
    "\n",
    "## [2. Fugue SQL Syntax](syntax.ipynb)\n",
    "\n",
    "Get started with `FugueSQL`. This shows input and output of data, enhancements over standard SQL, and how to use SQL to describe computation logic. After this, users will be able to use `FugueSQL` with the familiar SQL keywords to perform operations on **Pandas**, **Spark**, and **Dask**.\n",
    "\n",
    "## [3. Additional SQL Operators](operators.ipynb)\n",
    "\n",
    "There are implemented operations that Fugue has on top of the ones provided by standard SQL. FugueSQL is extensible with Python code, but the most common functions are added as built-ins. These include filling NULL values, dropping NULL values, renaming columns, changing schema, etc.\n",
    "\n",
    "## [4. Integrating Python](python.ipynb)\n",
    "\n",
    "Explore [Jinja templating](https://jinja.palletsprojects.com/) for variable passing, accessing [DataFrames](schema_dataframes.html#DataFrame) from a `FugueSQLWorkflow`, and using a Python function as a [Transformer](../transformer.ipynb) in a FugueSQLWorkflow.\n",
    "\n",
    "## [5. Using Other Fugue Extensions](extensions.ipynb)\n",
    "\n",
    "The [Transformer](../transformer.ipynb) is just one of many possible [Fugue extensions](../extensions.ipynb). In this section we'll explore the syntax of all the other Fugue extensions: [Creator](../creator.ipynb), [Processor](../processor.ipynb), [Outputter](../outputter.ipynb), and [CoTransformer](../cotransformer.ipynb).\n",
    "\n",
    "## [6. Fugue SQL with Dask](dask.ipynb)\n",
    "\n",
    "`Fugue` and [`dask-sql`](https://dask-sql.readthedocs.io/en/latest/index.html) are collaborating to have our solutions converge and bring the de facto SQL interface for [Dask](https://docs.dask.org/en/latest/). Currently, `dask-sql` is faster on average, while `FugueSQL` is more complete in terms of `SQL` keywords implemented. Conveniently, our solutions can be used together to bring the best of both worlds. This is done by using `dask-sql` as the underlying [execution engine](../execution_engine.ipynb) of `FugueSQLWorkflow`."
   ],
   "cell_type": "markdown",
   "metadata": {}
  }
 ]
}