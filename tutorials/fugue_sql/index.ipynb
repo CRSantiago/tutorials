{
 "metadata": {
  "language_info": {
   "codemirror_mode": {
    "name": "ipython",
    "version": 3
   },
   "file_extension": ".py",
   "mimetype": "text/x-python",
   "name": "python",
   "nbconvert_exporter": "python",
   "pygments_lexer": "ipython3",
   "version": 3
  },
  "orig_nbformat": 2
 },
 "nbformat": 4,
 "nbformat_minor": 2,
 "cells": [
  {
   "source": [
    "# Fugue SQL\n",
    "\n",
    "Fugue SQL was designed for SQL Lovers to extend the boundaries of traditional SQL workflows. Fugue SQL allows the expression of logic in end-to-end data workflows. It can also be combined with Python code to use custom functions inside the SQL commands.\n",
    "\n",
    "Fugue SQL is a Domain Specific Language that allows users to express their distributed computing workflows in a SQL-based syntax. The SQL query is parsed with ANTLR and mapped to the equivalent functions in the Fugue programming interface. Similar to the Fugue programming interface, users can run their queries on Spark, Dask, and Pandas execution engines without having to change the query. Logic is decoupled from execution.\n",
    "\n",
    "## 1. Installation\n",
    "\n",
    "In order to use Fugue SQL, you first need to make sure you have installed the sql extra\n",
    "```\n",
    "pip install fugue[sql]\n",
    "```\n",
    "To run on Spark or Dask execution engines, install the appropriate extras. Alternatively, `all` can be used as an extra.\n",
    "```\n",
    "pip install fugue[sql, spark] \n",
    "pip install fugue[sql, dask]\n",
    "pip install fugue[all]\n",
    "```\n",
    "\n",
    "## [2. Fugue SQL Syntax](syntax.ipynb)\n",
    "\n",
    "Get started with Fugue SQL. This input and output of data, enhancements over standard SQL, and how to SQL to describe computation logic. Dask. After this, users will be able to use Fugue SQL with the familiar SQL keywords to perform operations on Pandas, Spark, and Dask.\n",
    "\n",
    "## [3. Additional SQL Operators](operators.ipynb)\n",
    "\n",
    "Check out other implemented operators that Fugue has on top of the ones provided by standard SQL. FugueSQL is extensible with Python code, but the most common functins are built-in.\n",
    "\n",
    "## [4. Integrating Python](python.ipynb)\n",
    "\n",
    "Get started with Fugue SQL and understand the added functionality over ANSI SQL.\n",
    "\n",
    "## [5. Using Other Fugue Extensions](extensions.ipynb)\n",
    "\n",
    "Get started with Fugue SQL and understand the added functionality over ANSI SQL.\n",
    "\n",
    "## [6. Fugue SQL with Dask]\n",
    "\n",
    "`Fugue` and [`dask-sql`](https://dask-sql.readthedocs.io/en/latest/index.html) are collaborating to have our solutions converge and bring the de facto SQL interface for [Dask](https://docs.dask.org/en/latest/). Currently, `dask-sql` is faster on average, while `FugueSQL` is more complete in terms of `SQL` keywords implemented. Conveniently, our solutions can be used together to bring the best of both worlds. This is done by using `dask-sql` as the underlying [execution engine](../execution_engine.ipynb) of `FugueSQLWorkflow`."
   ],
   "cell_type": "markdown",
   "metadata": {}
  },
  {
   "cell_type": "code",
   "execution_count": null,
   "metadata": {},
   "outputs": [],
   "source": []
  }
 ]
}