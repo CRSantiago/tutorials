{
 "cells": [
  {
   "cell_type": "markdown",
   "metadata": {},
   "source": [
    "# Welcome To Fugue Tutorials\n",
    "\n",
    "This environment has everything setup for you, you can run Fugue on native python, Spark and Dask, with Fugue SQL support. In order to setup your own environment, you can pip install the package:\n",
    "\n",
    "```bash\n",
    "pip install fugue[all]\n",
    "```\n",
    "\n",
    "The simplest way to run the tutorial is to use [mybinder](https://mybinder.org/v2/gh/fugue-project/tutorials/master)\n",
    "\n",
    "[![Binder](https://mybinder.org/badge_logo.svg)](https://mybinder.org/v2/gh/fugue-project/tutorials/master)\n",
    "\n",
    "**BUT please notice that, it runs slow on binder, the spark initialization can take a long time, it should be a single core virtual machine**\n",
    "\n",
    "To run the tutorials environment on your own machine, the simplest way is, if you have docker installed:\n",
    "\n",
    "```\n",
    "docker run -p 8888:8888 fugueproject/tutorials:latest\n",
    "```\n",
    "\n",
    "To run docker on your own machine, the performance should be a lot better.\n",
    "\n",
    "This tutorial is not only to help you ramp up on Fugue, but more importantly, it helps you better understand the basic concepts of distributed computing, from higher level. The philosophy of Fugue is to **adapt to you**, so as long as you understand the basic concepts, you can simply use Fugue to express or glue your logic. Most of your code will stay in native python."
   ]
  },
  {
   "cell_type": "markdown",
   "metadata": {},
   "source": [
    "# Topics\n",
    "\n",
    "The topics will follow the architecture from bottom up, from the most basic abstraction elements to the most abstract layers.\n",
    "<img src=\"./images/architecture.svg\" width=\"500\">\n",
    "\n",
    "## [1. Hello World](#Hello-World)\n",
    "How to quickly start playing with Fugue.\n",
    "\n",
    "## [2. Data Type, Schema & DataFrames](tutorials/schema_dataframes.ipynb)\n",
    "Fugue data types and schema are strictly based on [Apache Arrow](https://arrow.apache.org/docs/index.html). Dataframe is an abstract concept with several built in implementations to adapt to different dataframes. In this tutorial, we will go through the basic APIs and focus on the most common use cases.\n",
    "\n",
    "## [3. Partition](tutorials/partition.ipynb)\n",
    "This tutorial is more focused on explaining the basic ideas of data partition. It's less related with Fugue. To have a good understanding of partition is the key to writing high performance code.\n",
    "\n",
    "\n",
    "## [4. Execution Engine](tutorials/execution_engine.ipynb)\n",
    "The heart of Fugue. It is the layer that unifies many of the core concepts of distributed computing, and separates the underlying computing frameworks from users' higher level logic. Normally you don't directly operate on execution engines. But it's good to understand some basics.\n",
    "\n",
    "## [5. Execution Graph (DAG) & Programming Interface](tutorials/dag.ipynb)\n",
    "The most important tutorial you should read. In this tutorial, we will focus on how to use the APIs to construct your own workflow. In this tutorial we will also have some basic examples of extensions, for more examples, please read the next topic.\n",
    "\n",
    "## [6. Extensions](tutorials/extensions.ipynb)\n",
    "The second most important tutorial you should read. It covers all types of extensions you can customize.\n",
    "\n",
    "### [Transformer](tutorials/transformer.ipynb)\n",
    "The most useful extension, that is widely used in real world. **PLEASE READ**\n",
    "### [CoTransformer](tutorials/cotransformer.ipynb)\n",
    "Transformation on multiple dataframes partitioned in the same way\n",
    "### [Creator](tutorials/creator.ipynb)\n",
    "Creators of dataframes for a DAG to use\n",
    "### [Processor](tutorials/processor.ipynb)\n",
    "Taking in one or multiple dataframes and produce a single dataframe\n",
    "### [Outputter](tutorials/outputter.ipynb)\n",
    "Taking in one or multiple dataframes to do final jobs such as save and print\n",
    "\n",
    "\n",
    "## [7. Fugue SQL](tutorials/sql.ipynb)\n",
    "The most fun part of Fugue. You can use SQL instead of python to represent the backbone of your workflow, and you can keep you mindset in SQL in most of the time and with the help of python extensions. The SQL mindset is great for distributed computing, you may be able to make your logic more scale agnostic if within SQL mindset. In this tutorial, we will cover all syntax of Fugue SQL.\n",
    "\n",
    "## 8. Examples\n",
    "We will solve a couple of example problems to demonstrate how to use Fugue and Fugue SQL.\n",
    "\n",
    "### [COVID19 Data Exploration](tutorials/example_covid19.ipynb)\n",
    "How to use Fugue SQL and extensions to do data analytics.\n",
    "\n",
    "\n"
   ]
  },
  {
   "cell_type": "markdown",
   "metadata": {},
   "source": [
    "# Hello World\n",
    "\n",
    "Every framework has a hello world, Fugue is the same. But you must understand that distributed computing is not\n",
    "easy, being able to modify the hello world code for some simple things doesn't mean you master it. And please\n",
    "don't be misled by hello world examples of any distributed frameworks. There is much more to understand."
   ]
  },
  {
   "cell_type": "code",
   "execution_count": null,
   "metadata": {},
   "outputs": [],
   "source": [
    "from fugue import FugueWorkflow\n",
    "\n",
    "# create a dataframe and print\n",
    "with FugueWorkflow() as dag:\n",
    "    dag.df([[0,\"hello\"],[1,\"world\"]],\"x:int,b:str\").show()"
   ]
  },
  {
   "cell_type": "markdown",
   "metadata": {},
   "source": [
    "Fugue is using DAG (Directed Acyclic Graph) to express workflow. You always construct a dag before executing it. Currently, Fugue does not support execution during construction (this is actually interactive mode). But the experience of using dag should be similar to using native Spark in notebook, both are lazy.\n",
    "\n",
    "The `with` statement tells the system I want to execute it when exiting. You don't have to use `with` all the time. For example, submitting to spark may be slow, it's totally fine we construct the dag, then start Spark and run it, this can capture many errors much quicker."
   ]
  },
  {
   "cell_type": "code",
   "execution_count": null,
   "metadata": {},
   "outputs": [],
   "source": [
    "from fugue import FugueWorkflow\n",
    "from fugue_spark import SparkExecutionEngine\n",
    "from fugue_dask import DaskExecutionEngine\n",
    "\n",
    "dag = FugueWorkflow()\n",
    "dag.df([[0,\"hello\"],[1,\"world\"]],\"x:int,b:str\").show()\n",
    "# here I have finished the construction, and the following is to run on different execution engines\n",
    "\n",
    "dag.run()                     # native python\n",
    "dag.run(SparkExecutionEngine) # spark\n",
    "dag.run(DaskExecutionEngine)  # dask"
   ]
  },
  {
   "cell_type": "markdown",
   "metadata": {},
   "source": [
    "You can find that the results are the same, but they are of different dataframes. Different execution engine will use different dataframes, they can convert to each other. Fugue tries to make the concept of `DataFrame` as abstract as possible, users in most cases only need to care data inside a dataframe.\n",
    "\n",
    "Here we show the simple ways to run the same dag on different execution engines, it's good for initial prototyping. But in real use cases, you should well configure your execution engines and then pass into the dag to run. Again, hello world `!=` real way to use."
   ]
  }
 ],
 "metadata": {
  "kernelspec": {
   "display_name": "Python 3",
   "language": "python",
   "name": "python3"
  },
  "language_info": {
   "codemirror_mode": {
    "name": "ipython",
    "version": 3
   },
   "file_extension": ".py",
   "mimetype": "text/x-python",
   "name": "python",
   "nbconvert_exporter": "python",
   "pygments_lexer": "ipython3",
   "version": "3.7.6"
  }
 },
 "nbformat": 4,
 "nbformat_minor": 4
}
