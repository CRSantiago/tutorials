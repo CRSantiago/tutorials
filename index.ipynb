{
 "cells": [
  {
   "cell_type": "markdown",
   "metadata": {},
   "source": [
    "# Welcome To Fugue Tutorials\n",
    "\n",
    "This environment has setup everything for you, you can run Fugue on native python, Spark and Dask, with Fugue SQL support. In order to setup your own environment, you can pip install the package:\n",
    "\n",
    "```bash\n",
    "pip install fugue[sql,spark,dask]\n",
    "```\n",
    "\n",
    "To run the tutorials environment on your own machine, the simplest way is, if you have docker installed:\n",
    "\n",
    "```\n",
    "docker run -p 8888:8888 fugueproject/tutorials:latest\n",
    "```\n",
    "\n",
    "This tutorial is not only to help you ramp up on Fugue, but more importantly, it helps you better understand the basic concepts of distributed computing, from higher level. The philosophy of Fugue is to **adapt to you**, so as long as you understand the basic concepts, you can simply use Fugue to express or glue your logic. Most of your code will stay in native python."
   ]
  },
  {
   "cell_type": "markdown",
   "metadata": {},
   "source": [
    "## Hello World\n",
    "\n",
    "Every framework has a hello world, Fugue is the same. But you must understand that distributed computing is not\n",
    "easy, being able to modify the hello world code for some simple things doesn't mean you master it. And please\n",
    "don't be misled by hello world examples of any distributed frameworks. There is much more to understand."
   ]
  },
  {
   "cell_type": "code",
   "execution_count": null,
   "metadata": {},
   "outputs": [],
   "source": [
    "from fugue.workflow import FugueWorkflow\n",
    "\n",
    "# create a dataframe and print\n",
    "with FugueWorkflow() as dag:\n",
    "    dag.df([[0,\"hello\"],[1,\"world\"]],\"x:int,b:str\").show()"
   ]
  },
  {
   "cell_type": "markdown",
   "metadata": {},
   "source": [
    "Fugue is using DAG (Directed Acyclic Graph) to express workflow. You always construct a dag before executing it. Currently, Fugue does not support execution during construction (this is actually interactive mode). But the experience of using dag should not be too different from using native Spark, both are lazy.\n",
    "\n",
    "The `with` statement tells the system I want to execute it when exiting. You don't have to use `with` all the time. For example, submitting to spark may be slow, it's totally fine we construct the dag, then start Spark and run it, this can capture many errors much quicker."
   ]
  },
  {
   "cell_type": "code",
   "execution_count": null,
   "metadata": {},
   "outputs": [],
   "source": [
    "from fugue.workflow import FugueWorkflow\n",
    "from fugue_spark.execution_engine import SparkExecutionEngine\n",
    "from fugue_dask.execution_engine import DaskExecutionEngine\n",
    "\n",
    "dag = FugueWorkflow()\n",
    "dag.df([[0,\"hello\"],[1,\"world\"]],\"x:int,b:str\").show()\n",
    "# here I have finished the construction, and the following is to run on different execution engines\n",
    "\n",
    "dag.run()                     # native python\n",
    "dag.run(SparkExecutionEngine) #spark\n",
    "dag.run(DaskExecutionEngine)  #dask"
   ]
  },
  {
   "cell_type": "markdown",
   "metadata": {},
   "source": [
    "You can find that the results are the same, but they are of different dataframes. Different execution engine will use different dataframes, they can convert to each other. Fugue tries to make the concept of `DataFrame` as abstract as possible, users in most cases only need to care data inside a dataframe."
   ]
  },
  {
   "cell_type": "code",
   "execution_count": null,
   "metadata": {},
   "outputs": [],
   "source": []
  }
 ],
 "metadata": {
  "kernelspec": {
   "display_name": "Python 3",
   "language": "python",
   "name": "python3"
  },
  "language_info": {
   "codemirror_mode": {
    "name": "ipython",
    "version": 3
   },
   "file_extension": ".py",
   "mimetype": "text/x-python",
   "name": "python",
   "nbconvert_exporter": "python",
   "pygments_lexer": "ipython3",
   "version": "3.7.6"
  }
 },
 "nbformat": 4,
 "nbformat_minor": 4
}
